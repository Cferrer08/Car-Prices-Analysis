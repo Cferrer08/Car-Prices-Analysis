{
 "cells": [
  {
   "cell_type": "markdown",
   "id": "cec7b080",
   "metadata": {},
   "source": [
    "<h1 style=\"color:black;\">Data Cleaning</h1>"
   ]
  },
  {
   "cell_type": "code",
   "execution_count": 4,
   "id": "4d1ba061",
   "metadata": {
    "scrolled": true
   },
   "outputs": [
    {
     "name": "stdout",
     "output_type": "stream",
     "text": [
      "   Brand        Price  Year              Vehicle Name  \\\n",
      "0  Acura  US$ 115,000   NaN  Acura MDX SH-AWD Advance   \n",
      "1  Acura   US$ 79,900   NaN  Acura MDX SH-AWD Advance   \n",
      "2  Acura   US$ 25,500   NaN         Acura ILX Premium   \n",
      "3  Acura   US$ 25,000   NaN         Acura ILX Premium   \n",
      "4  Acura   US$ 83,500   NaN                 Acura MDX   \n",
      "\n",
      "                              Details  \\\n",
      "0  2023 - Gasolina - Usado - 3,000 Mi   \n",
      "1             2022 - Gasolina - Usado   \n",
      "2  2022 - Gasolina - Usado - 2,700 Mi   \n",
      "3             2022 - Gasolina - Usado   \n",
      "4             2022 - Gasolina - Usado   \n",
      "\n",
      "                                           Image URL  \n",
      "0  https://img.supercarros.com/AdsPhotos/282x188/...  \n",
      "1  https://img.supercarros.com/AdsPhotos/282x188/...  \n",
      "2  https://img.supercarros.com/AdsPhotos/282x188/...  \n",
      "3  https://img.supercarros.com/AdsPhotos/282x188/...  \n",
      "4  https://img.supercarros.com/AdsPhotos/282x188/...  \n"
     ]
    }
   ],
   "source": [
    "import pandas as pd\n",
    "\n",
    "file_path = \"car_data_by_brand.csv\"\n",
    "df = pd.read_csv(file_path)\n",
    "\n",
    "print(df.head())"
   ]
  },
  {
   "cell_type": "code",
   "execution_count": 5,
   "id": "4d99e5cb",
   "metadata": {},
   "outputs": [],
   "source": [
    "# Copy the values from the 'price' column into a new column called 'placeholder'\n",
    "df['placeholder'] = df['Price']\n"
   ]
  },
  {
   "cell_type": "code",
   "execution_count": 6,
   "id": "ae940f69",
   "metadata": {
    "scrolled": true
   },
   "outputs": [],
   "source": [
    "# Remove dollar signs and convert the 'price' column to numeric values\n",
    "df['placeholder'] = df['Price'].replace({',': ''}, regex=True).str.extract(r'(\\d+(\\.\\d+)?)')[0].astype(float)\n"
   ]
  },
  {
   "cell_type": "code",
   "execution_count": 7,
   "id": "14977f60",
   "metadata": {},
   "outputs": [
    {
     "name": "stdout",
     "output_type": "stream",
     "text": [
      "   Brand        Price  Year              Vehicle Name  \\\n",
      "0  Acura  US$ 115,000   NaN  Acura MDX SH-AWD Advance   \n",
      "1  Acura   US$ 79,900   NaN  Acura MDX SH-AWD Advance   \n",
      "2  Acura   US$ 25,500   NaN         Acura ILX Premium   \n",
      "3  Acura   US$ 25,000   NaN         Acura ILX Premium   \n",
      "4  Acura   US$ 83,500   NaN                 Acura MDX   \n",
      "\n",
      "                              Details  \\\n",
      "0  2023 - Gasolina - Usado - 3,000 Mi   \n",
      "1             2022 - Gasolina - Usado   \n",
      "2  2022 - Gasolina - Usado - 2,700 Mi   \n",
      "3             2022 - Gasolina - Usado   \n",
      "4             2022 - Gasolina - Usado   \n",
      "\n",
      "                                           Image URL  placeholder  \\\n",
      "0  https://img.supercarros.com/AdsPhotos/282x188/...     115000.0   \n",
      "1  https://img.supercarros.com/AdsPhotos/282x188/...      79900.0   \n",
      "2  https://img.supercarros.com/AdsPhotos/282x188/...      25500.0   \n",
      "3  https://img.supercarros.com/AdsPhotos/282x188/...      25000.0   \n",
      "4  https://img.supercarros.com/AdsPhotos/282x188/...      83500.0   \n",
      "\n",
      "   Price_in_USD  \n",
      "0      115000.0  \n",
      "1       79900.0  \n",
      "2       25500.0  \n",
      "3       25000.0  \n",
      "4       83500.0  \n"
     ]
    }
   ],
   "source": [
    "# Create the 'Price_in_USD' column based on the condition\n",
    "df['Price_in_USD'] = df.apply(\n",
    "    lambda row: row['placeholder'] if str(row['Price']).startswith(\"US\") else row['placeholder'] // 61.3,\n",
    "    axis=1\n",
    ")\n",
    "\n",
    "print(df.head(5))"
   ]
  },
  {
   "cell_type": "code",
   "execution_count": 8,
   "id": "a346ec21",
   "metadata": {},
   "outputs": [],
   "source": [
    "# Delete the 'placeholder' column in place\n",
    "df.drop(columns=['placeholder'], inplace=True)\n"
   ]
  },
  {
   "cell_type": "code",
   "execution_count": 9,
   "id": "29a8998f",
   "metadata": {},
   "outputs": [
    {
     "name": "stdout",
     "output_type": "stream",
     "text": [
      "   Brand        Price  Year        Vehicle Name  \\\n",
      "0  Acura  US$ 115,000   NaN  MDX SH-AWD Advance   \n",
      "1  Acura   US$ 79,900   NaN  MDX SH-AWD Advance   \n",
      "2  Acura   US$ 25,500   NaN         ILX Premium   \n",
      "3  Acura   US$ 25,000   NaN         ILX Premium   \n",
      "4  Acura   US$ 83,500   NaN                 MDX   \n",
      "\n",
      "                              Details  \\\n",
      "0  2023 - Gasolina - Usado - 3,000 Mi   \n",
      "1             2022 - Gasolina - Usado   \n",
      "2  2022 - Gasolina - Usado - 2,700 Mi   \n",
      "3             2022 - Gasolina - Usado   \n",
      "4             2022 - Gasolina - Usado   \n",
      "\n",
      "                                           Image URL  Price_in_USD  \n",
      "0  https://img.supercarros.com/AdsPhotos/282x188/...      115000.0  \n",
      "1  https://img.supercarros.com/AdsPhotos/282x188/...       79900.0  \n",
      "2  https://img.supercarros.com/AdsPhotos/282x188/...       25500.0  \n",
      "3  https://img.supercarros.com/AdsPhotos/282x188/...       25000.0  \n",
      "4  https://img.supercarros.com/AdsPhotos/282x188/...       83500.0  \n"
     ]
    }
   ],
   "source": [
    "# Remove the car brand from the 'Vehicle Name' column\n",
    "df['Vehicle Name'] = df.apply(\n",
    "    lambda row: row['Vehicle Name'].replace(row['Brand'], '').strip() if pd.notnull(row['Brand']) else row['Vehicle Name'],\n",
    "    axis=1\n",
    ")\n",
    "\n",
    "print(df.head(5))\n"
   ]
  },
  {
   "cell_type": "code",
   "execution_count": 10,
   "id": "e1565b51",
   "metadata": {},
   "outputs": [
    {
     "name": "stdout",
     "output_type": "stream",
     "text": [
      "   Brand        Price  Year               Model  \\\n",
      "0  Acura  US$ 115,000   NaN  MDX SH-AWD Advance   \n",
      "1  Acura   US$ 79,900   NaN  MDX SH-AWD Advance   \n",
      "2  Acura   US$ 25,500   NaN         ILX Premium   \n",
      "\n",
      "                              Details  \\\n",
      "0  2023 - Gasolina - Usado - 3,000 Mi   \n",
      "1             2022 - Gasolina - Usado   \n",
      "2  2022 - Gasolina - Usado - 2,700 Mi   \n",
      "\n",
      "                                           Image URL  Price_in_USD  \n",
      "0  https://img.supercarros.com/AdsPhotos/282x188/...      115000.0  \n",
      "1  https://img.supercarros.com/AdsPhotos/282x188/...       79900.0  \n",
      "2  https://img.supercarros.com/AdsPhotos/282x188/...       25500.0  \n"
     ]
    }
   ],
   "source": [
    "# Rename the 'Vehicle Name' column to 'Model'\n",
    "df.rename(columns={'Vehicle Name': 'Model'}, inplace=True)\n",
    "\n",
    "print(df.head(3))"
   ]
  },
  {
   "cell_type": "code",
   "execution_count": 11,
   "id": "180f5505",
   "metadata": {},
   "outputs": [
    {
     "name": "stdout",
     "output_type": "stream",
     "text": [
      "   Brand        Price  Year               Model  \\\n",
      "0  Acura  US$ 115,000  2023  MDX SH-AWD Advance   \n",
      "1  Acura   US$ 79,900  2022  MDX SH-AWD Advance   \n",
      "2  Acura   US$ 25,500  2022         ILX Premium   \n",
      "3  Acura   US$ 25,000  2022         ILX Premium   \n",
      "4  Acura   US$ 83,500  2022                 MDX   \n",
      "\n",
      "                              Details  \\\n",
      "0  2023 - Gasolina - Usado - 3,000 Mi   \n",
      "1             2022 - Gasolina - Usado   \n",
      "2  2022 - Gasolina - Usado - 2,700 Mi   \n",
      "3             2022 - Gasolina - Usado   \n",
      "4             2022 - Gasolina - Usado   \n",
      "\n",
      "                                           Image URL  Price_in_USD  \n",
      "0  https://img.supercarros.com/AdsPhotos/282x188/...      115000.0  \n",
      "1  https://img.supercarros.com/AdsPhotos/282x188/...       79900.0  \n",
      "2  https://img.supercarros.com/AdsPhotos/282x188/...       25500.0  \n",
      "3  https://img.supercarros.com/AdsPhotos/282x188/...       25000.0  \n",
      "4  https://img.supercarros.com/AdsPhotos/282x188/...       83500.0  \n"
     ]
    }
   ],
   "source": [
    "# Extract the year from the 'detail' column and fill the 'Year' column\n",
    "df['Year'] = df['Details'].str.extract(r'(\\b\\d{4}\\b)', expand=False)\n",
    "\n",
    "print(df.head(5))\n"
   ]
  },
  {
   "cell_type": "code",
   "execution_count": 12,
   "id": "bb6dc60f",
   "metadata": {},
   "outputs": [
    {
     "name": "stdout",
     "output_type": "stream",
     "text": [
      "   Brand        Price  Year               Model  \\\n",
      "0  Acura  US$ 115,000  2023  MDX SH-AWD Advance   \n",
      "1  Acura   US$ 79,900  2022  MDX SH-AWD Advance   \n",
      "2  Acura   US$ 25,500  2022         ILX Premium   \n",
      "3  Acura   US$ 25,000  2022         ILX Premium   \n",
      "4  Acura   US$ 83,500  2022                 MDX   \n",
      "\n",
      "                              Details  \\\n",
      "0  2023 - Gasolina - Usado - 3,000 Mi   \n",
      "1             2022 - Gasolina - Usado   \n",
      "2  2022 - Gasolina - Usado - 2,700 Mi   \n",
      "3             2022 - Gasolina - Usado   \n",
      "4             2022 - Gasolina - Usado   \n",
      "\n",
      "                                           Image URL  Price_in_USD     Power  \n",
      "0  https://img.supercarros.com/AdsPhotos/282x188/...      115000.0  Gasolina  \n",
      "1  https://img.supercarros.com/AdsPhotos/282x188/...       79900.0  Gasolina  \n",
      "2  https://img.supercarros.com/AdsPhotos/282x188/...       25500.0  Gasolina  \n",
      "3  https://img.supercarros.com/AdsPhotos/282x188/...       25000.0  Gasolina  \n",
      "4  https://img.supercarros.com/AdsPhotos/282x188/...       83500.0  Gasolina  \n"
     ]
    }
   ],
   "source": [
    "# Extract the value between the first '-' and the second '-' and fill the 'Power' column\n",
    "df['Power'] = df['Details'].str.extract(r'-\\s*([^-\\s]+)\\s*-', expand=False)\n",
    "\n",
    "print(df.head(5))\n"
   ]
  },
  {
   "cell_type": "code",
   "execution_count": 13,
   "id": "078da9fe",
   "metadata": {},
   "outputs": [],
   "source": [
    "# Replace values starting with 'E' with 'Electrico' and starting with 'H' with 'Hibrido'\n",
    "df['Power'] = df['Power'].apply(\n",
    "    lambda x: 'Electrico' if str(x).startswith('E') else ('Hibrido' if str(x).startswith('H') else x)\n",
    ")\n"
   ]
  },
  {
   "cell_type": "code",
   "execution_count": 14,
   "id": "477dc484",
   "metadata": {},
   "outputs": [
    {
     "name": "stdout",
     "output_type": "stream",
     "text": [
      "   Brand        Price  Year               Model  \\\n",
      "0  Acura  US$ 115,000  2023  MDX SH-AWD Advance   \n",
      "1  Acura   US$ 79,900  2022  MDX SH-AWD Advance   \n",
      "2  Acura   US$ 25,500  2022         ILX Premium   \n",
      "3  Acura   US$ 25,000  2022         ILX Premium   \n",
      "4  Acura   US$ 83,500  2022                 MDX   \n",
      "\n",
      "                              Details  \\\n",
      "0  2023 - Gasolina - Usado - 3,000 Mi   \n",
      "1             2022 - Gasolina - Usado   \n",
      "2  2022 - Gasolina - Usado - 2,700 Mi   \n",
      "3             2022 - Gasolina - Usado   \n",
      "4             2022 - Gasolina - Usado   \n",
      "\n",
      "                                           Image URL  Price_in_USD     Power  \\\n",
      "0  https://img.supercarros.com/AdsPhotos/282x188/...      115000.0  Gasolina   \n",
      "1  https://img.supercarros.com/AdsPhotos/282x188/...       79900.0  Gasolina   \n",
      "2  https://img.supercarros.com/AdsPhotos/282x188/...       25500.0  Gasolina   \n",
      "3  https://img.supercarros.com/AdsPhotos/282x188/...       25000.0  Gasolina   \n",
      "4  https://img.supercarros.com/AdsPhotos/282x188/...       83500.0  Gasolina   \n",
      "\n",
      "    Usage  \n",
      "0  Usado   \n",
      "1   Usado  \n",
      "2  Usado   \n",
      "3   Usado  \n",
      "4   Usado  \n"
     ]
    }
   ],
   "source": [
    "# Extract the value between the second '-' and the third '-', or just after the second '-'\n",
    "df['Usage'] = df['Details'].str.extract(r'-[^-]+-\\s*([^-\\n]+)', expand=False)\n",
    "\n",
    "print(df.head(5))\n",
    "\n"
   ]
  },
  {
   "cell_type": "code",
   "execution_count": 15,
   "id": "e9c0768f",
   "metadata": {},
   "outputs": [
    {
     "name": "stdout",
     "output_type": "stream",
     "text": [
      "   Brand        Price  Year               Model  \\\n",
      "0  Acura  US$ 115,000  2023  MDX SH-AWD Advance   \n",
      "1  Acura   US$ 79,900  2022  MDX SH-AWD Advance   \n",
      "2  Acura   US$ 25,500  2022         ILX Premium   \n",
      "3  Acura   US$ 25,000  2022         ILX Premium   \n",
      "4  Acura   US$ 83,500  2022                 MDX   \n",
      "\n",
      "                              Details  \\\n",
      "0  2023 - Gasolina - Usado - 3,000 Mi   \n",
      "1             2022 - Gasolina - Usado   \n",
      "2  2022 - Gasolina - Usado - 2,700 Mi   \n",
      "3             2022 - Gasolina - Usado   \n",
      "4             2022 - Gasolina - Usado   \n",
      "\n",
      "                                           Image URL  Price_in_USD     Power  \\\n",
      "0  https://img.supercarros.com/AdsPhotos/282x188/...      115000.0  Gasolina   \n",
      "1  https://img.supercarros.com/AdsPhotos/282x188/...       79900.0  Gasolina   \n",
      "2  https://img.supercarros.com/AdsPhotos/282x188/...       25500.0  Gasolina   \n",
      "3  https://img.supercarros.com/AdsPhotos/282x188/...       25000.0  Gasolina   \n",
      "4  https://img.supercarros.com/AdsPhotos/282x188/...       83500.0  Gasolina   \n",
      "\n",
      "    Usage  Odometer  \n",
      "0  Usado   3,000 Mi  \n",
      "1   Usado       NaN  \n",
      "2  Usado   2,700 Mi  \n",
      "3   Usado       NaN  \n",
      "4   Usado       NaN  \n"
     ]
    }
   ],
   "source": [
    "# Extract the value after the third '-' and fill the 'Odometer' column\n",
    "df['Odometer'] = df['Details'].str.extract(r'(?:[^-]*-){3}\\s*([^-\\n]*)', expand=False)\n",
    "\n",
    "print(df.head(5))\n"
   ]
  },
  {
   "cell_type": "code",
   "execution_count": 16,
   "id": "fddf1a7c",
   "metadata": {},
   "outputs": [
    {
     "name": "stdout",
     "output_type": "stream",
     "text": [
      "     Odometer Range\n",
      "0    3,000 Mi   NaN\n",
      "1         NaN   NaN\n",
      "2    2,700 Mi   NaN\n",
      "3         NaN   NaN\n",
      "4         NaN   NaN\n",
      "5         NaN   NaN\n",
      "6         NaN   NaN\n",
      "7         NaN   NaN\n",
      "8   37,000 Mi   NaN\n",
      "9   22,833 Mi   NaN\n",
      "10  51,633 Mi   NaN\n",
      "11  77,000 Mi   NaN\n",
      "12        NaN   NaN\n",
      "13        NaN   NaN\n",
      "14        NaN   NaN\n",
      "15        NaN   NaN\n",
      "16        NaN   NaN\n",
      "17  61,500 Mi   NaN\n",
      "18        NaN   NaN\n",
      "19  45,000 Mi   NaN\n"
     ]
    }
   ],
   "source": [
    "# Extract values containing 'Rango' into a new column called 'Range'\n",
    "df['Range'] = df['Odometer'].where(df['Odometer'].str.contains('Rango', na=False))\n",
    "\n",
    "# Remove 'Rango' values from the 'Odometer' column\n",
    "df['Odometer'] = df['Odometer'].str.replace(r'.*Rango.*', '', regex=True).str.strip()\n",
    "\n",
    "# Verify the result\n",
    "print(df[['Odometer', 'Range']].head(20))\n"
   ]
  },
  {
   "cell_type": "code",
   "execution_count": 17,
   "id": "24f5b49e",
   "metadata": {},
   "outputs": [],
   "source": [
    "# Remove only the word 'Rango' (case-insensitive) from the 'Millage' column\n",
    "df['Range'] = df['Range'].str.replace(r'\\bRango\\b', '', regex=True, case=False).str.strip()\n"
   ]
  },
  {
   "cell_type": "code",
   "execution_count": 18,
   "id": "351de8c1",
   "metadata": {},
   "outputs": [],
   "source": [
    "# Extract numeric values from the 'Range' column and store them in the 'placeholder' column\n",
    "df['placeholder'] = df['Range'].str.extract(r'(\\d+)', expand=False)\n"
   ]
  },
  {
   "cell_type": "code",
   "execution_count": 19,
   "id": "bba3f2cc",
   "metadata": {},
   "outputs": [],
   "source": [
    "# Update the 'Range' column based on the conditions\n",
    "def convert_range(row):\n",
    "    if 'KM' in str(row['Range']).upper():  # Check if 'KM' is in the text\n",
    "        return round(float(row['placeholder']) // 0.62)\n",
    "    elif 'MI' in str(row['Range']).upper():\n",
    "        return float(row['placeholder'])\n",
    "    return None\n",
    "\n",
    "df['Range'] = df.apply(convert_range, axis=1)\n",
    "\n",
    "df.drop(columns=['placeholder'], inplace=True)\n",
    "\n"
   ]
  },
  {
   "cell_type": "code",
   "execution_count": 20,
   "id": "429629d4",
   "metadata": {},
   "outputs": [],
   "source": [
    "df['Odometer'] = df['Odometer'].str.replace(',', '', regex=True)\n",
    "\n",
    "# Extract numeric values from the 'Odometer' column and store them in the 'placeholder' column\n",
    "df['placeholder'] = df['Odometer'].str.extract(r'(\\d+)', expand=False)\n"
   ]
  },
  {
   "cell_type": "code",
   "execution_count": 21,
   "id": "15f83786",
   "metadata": {},
   "outputs": [
    {
     "name": "stdout",
     "output_type": "stream",
     "text": [
      "    Odometer\n",
      "0     3000.0\n",
      "1        NaN\n",
      "2     2700.0\n",
      "3        NaN\n",
      "4        NaN\n",
      "5        NaN\n",
      "6        NaN\n",
      "7        NaN\n",
      "8    37000.0\n",
      "9    22833.0\n",
      "10   51633.0\n",
      "11   77000.0\n",
      "12       NaN\n",
      "13       NaN\n",
      "14       NaN\n",
      "15       NaN\n",
      "16       NaN\n",
      "17   61500.0\n",
      "18       NaN\n",
      "19   45000.0\n"
     ]
    }
   ],
   "source": [
    "# Update the 'Odometer' column based on conditions\n",
    "def convert_odometer(row):\n",
    "    \n",
    "    odometer_value = str(row['Odometer'])\n",
    "    \n",
    "    if 'KM' in odometer_value.upper():  # Check if 'KM' is in the text\n",
    "        return round(float(row['placeholder']) // 0.62)  \n",
    "    elif 'MI' in odometer_value.upper():\n",
    "        return float(row['placeholder'])  \n",
    "    return None\n",
    "\n",
    "df['Odometer'] = df.apply(convert_odometer, axis=1)\n",
    "\n",
    "df.drop(columns=['placeholder'], inplace=True)\n",
    "\n",
    "print(df[['Odometer']].head(20))\n"
   ]
  },
  {
   "cell_type": "code",
   "execution_count": 22,
   "id": "07530502",
   "metadata": {
    "scrolled": true
   },
   "outputs": [
    {
     "name": "stdout",
     "output_type": "stream",
     "text": [
      "   Brand        Price  Year               Model  \\\n",
      "0  Acura  US$ 115,000  2023  MDX SH-AWD Advance   \n",
      "1  Acura   US$ 79,900  2022  MDX SH-AWD Advance   \n",
      "2  Acura   US$ 25,500  2022         ILX Premium   \n",
      "3  Acura   US$ 25,000  2022         ILX Premium   \n",
      "4  Acura   US$ 83,500  2022                 MDX   \n",
      "\n",
      "                              Details  \\\n",
      "0  2023 - Gasolina - Usado - 3,000 Mi   \n",
      "1             2022 - Gasolina - Usado   \n",
      "2  2022 - Gasolina - Usado - 2,700 Mi   \n",
      "3             2022 - Gasolina - Usado   \n",
      "4             2022 - Gasolina - Usado   \n",
      "\n",
      "                                           Image URL  Price_in_USD     Power  \\\n",
      "0  https://img.supercarros.com/AdsPhotos/282x188/...      115000.0  Gasolina   \n",
      "1  https://img.supercarros.com/AdsPhotos/282x188/...       79900.0  Gasolina   \n",
      "2  https://img.supercarros.com/AdsPhotos/282x188/...       25500.0  Gasolina   \n",
      "3  https://img.supercarros.com/AdsPhotos/282x188/...       25000.0  Gasolina   \n",
      "4  https://img.supercarros.com/AdsPhotos/282x188/...       83500.0  Gasolina   \n",
      "\n",
      "    Usage  Odometer_miles  Range_miles  \n",
      "0  Usado           3000.0          NaN  \n",
      "1   Usado             NaN          NaN  \n",
      "2  Usado           2700.0          NaN  \n",
      "3   Usado             NaN          NaN  \n",
      "4   Usado             NaN          NaN  \n"
     ]
    }
   ],
   "source": [
    "# Rename the columns\n",
    "df.rename(columns={'Odometer': 'Odometer_miles', 'Range': 'Range_miles'}, inplace=True)\n",
    "\n",
    "print(df.head(5))\n"
   ]
  },
  {
   "cell_type": "code",
   "execution_count": 21,
   "id": "0f26c504",
   "metadata": {},
   "outputs": [],
   "source": [
    "# Export cleaned CSV file\n",
    "df.to_csv(\"car_data_by_brand_cleaned.csv\", index=False)\n"
   ]
  },
  {
   "cell_type": "code",
   "execution_count": 24,
   "id": "dc6796f1",
   "metadata": {},
   "outputs": [
    {
     "name": "stdout",
     "output_type": "stream",
     "text": [
      "['Acura' 'Aiqar' 'Aiways' 'Alfa Romeo' 'Aston Martin' 'Audi' 'AVATR'\n",
      " 'Baic' 'Bajaj' 'Baojun' 'BAW' 'Bentley' 'Bestune' 'BMW' 'Brilliance'\n",
      " 'Buick' 'BYD' 'Cadillac' 'Cenntro' 'Chang LI' 'Changan' 'Chery'\n",
      " 'Chevrolet' 'Chrysler' 'Citroen' 'Daewoo' 'Daihatsu' 'Dayun' 'Dodge'\n",
      " 'Dongfeng' 'Faw' 'Ferrari' 'Fiat' 'Ford' 'Forthing' 'Foton' 'GAC' 'Geely'\n",
      " 'Genesis' 'GMC' 'Go Electric' 'Great Wall' 'GWM' 'Havall' 'Helmarv'\n",
      " 'Higer' 'Hino' 'Honda' 'Hummer' 'Hyundai' 'Infiniti' 'Isuzu' 'Jac'\n",
      " 'Jaguar' 'Jayco' 'Jeep' 'Jetour' 'Jin-Bei' 'Jingling' 'JMC' 'JMEV'\n",
      " 'Kaiyi' 'Kaiyun' 'KGM' 'Kia' 'KYC' 'Lamborghini' 'Land Rover'\n",
      " 'Leapmotors' 'Lexus' 'Lincoln' 'Maserati' 'Maxus' 'Mazda' 'McLaren'\n",
      " 'Mercedes-Benz' 'MG' 'Mini' 'Mitsubishi' 'Mullen' 'Neta' 'Nissan' 'Ora'\n",
      " 'Peugeot' 'Pontiac' 'Porsche' 'Qingling' 'Radar' 'Ram' 'Renault'\n",
      " 'Riddara' 'RISING' 'Rivian' 'Rolls Royce' 'Samsung' 'Seat' 'Shineray'\n",
      " 'Skywell' 'SsangYong' 'Subaru' 'Suzuki' 'SWM' 'Tesla' 'Toyota'\n",
      " 'Volkswagen' 'Volvo' 'WULING' 'Xpeng' 'YEMA' 'Zeekr' 'ZXAUTO']\n"
     ]
    }
   ],
   "source": [
    "unique_brands = df['Brand'].unique()\n",
    "print(unique_brands)\n"
   ]
  },
  {
   "cell_type": "code",
   "execution_count": null,
   "id": "c061af33",
   "metadata": {},
   "outputs": [],
   "source": []
  }
 ],
 "metadata": {
  "kernelspec": {
   "display_name": "Python 3 (ipykernel)",
   "language": "python",
   "name": "python3"
  },
  "language_info": {
   "codemirror_mode": {
    "name": "ipython",
    "version": 3
   },
   "file_extension": ".py",
   "mimetype": "text/x-python",
   "name": "python",
   "nbconvert_exporter": "python",
   "pygments_lexer": "ipython3",
   "version": "3.11.5"
  }
 },
 "nbformat": 4,
 "nbformat_minor": 5
}
